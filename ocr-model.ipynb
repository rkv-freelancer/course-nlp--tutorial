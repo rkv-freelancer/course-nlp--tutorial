{
 "cells": [
  {
   "cell_type": "markdown",
   "metadata": {},
   "source": [
    "Links:\n",
    "\n",
    "- https://deepayan137.github.io/blog/markdown/2020/08/29/building-ocr.html\n"
   ]
  },
  {
   "cell_type": "markdown",
   "metadata": {},
   "source": [
    "# NLP + OCR\n",
    "\n",
    "## Goal One: Developing an OCR Model for Baybayin\n",
    "\n",
    "- **Objective:** Create a robust Optical Character Recognition (OCR) model capable of accurately recognizing and transcribing Baybayin script from images.\n",
    "- **Approach:** Utilize deep learning techniques, such as Convolutional Neural Networks (CNNs) and Recurrent Neural Networks (RNNs), to develop and train the OCR model on a comprehensive dataset of Baybayin script images. Evaluate the mode's performance using the standard metrics and fine0tune it to achieve high accuracy and reliability.\n",
    "\n",
    "## Goal Two: Generating Baybayin for a Tagalog Word\n",
    "\n",
    "- **Objective:** To develop a machine learning model that can automatically generate the Baybayin script representation for any given Tagalog word or name.\n",
    "- **Approach:** Implement a sequence-to-sequence model, such as an encoder-decoder architecture with attention mechanisms, to learn the mapping between Tagalog words and their corresponding Baybayin script. Train the model on a parallel corpus of Tagalog words and their Baybayin translations, and evaluate its performance using appropriate metrics. Fine-tune the model to ensure accurate and contextually appropriate script generation.\n"
   ]
  },
  {
   "cell_type": "code",
   "execution_count": null,
   "metadata": {},
   "outputs": [],
   "source": [
    "DEFAULT_LEARNING_RATE = 0.0001\n",
    "DEFAULT_NUM_EPOCHS = 20\n",
    "DEFAULT_BATCH_SIZE = 128\n",
    "DEFAULT_ROOT_DIR = 'all'\n",
    "DEFAULT_NUM_CLASSES = 2350\n",
    "DEFAULT_USE_MODEL = 'vgg19'"
   ]
  },
  {
   "cell_type": "markdown",
   "metadata": {},
   "source": [
    "# 60-min Torch Notes\n"
   ]
  },
  {
   "cell_type": "code",
   "execution_count": 21,
   "metadata": {},
   "outputs": [],
   "source": [
    "# Import libraries\n",
    "import torch \n",
    "import numpy as np"
   ]
  },
  {
   "cell_type": "code",
   "execution_count": 19,
   "metadata": {},
   "outputs": [
    {
     "name": "stdout",
     "output_type": "stream",
     "text": [
      "Ones Tensor: \n",
      " tensor([[1, 1],\n",
      "        [1, 1]]) \n",
      "\n",
      "Random Tensor: \n",
      " tensor([[0.0907, 0.5016, 0.9283, 0.5027, 0.6303],\n",
      "        [0.3677, 0.1998, 0.4815, 0.1611, 0.0292]]) \n",
      "\n",
      "Shape of tensor: torch.Size([2, 5])\n",
      "Datatype of tensor: torch.float32\n",
      "Device tensor is stored on: cpu\n"
     ]
    }
   ],
   "source": [
    "# Link: https://pytorch.org/tutorials/beginner/blitz/tensor_tutorial.html\n",
    "# Tensors are a specialized data structure that are very similar to arrays and matrices. In PyTorch, we use tensors to encode the inputs and outputs of a model, as well as the model’s parameters.\n",
    "\n",
    "# Create a tensor: matrix is 2x2. Columns are [1, 3] and [2, 4]. Rows are [1, 2] and [3, 4]\n",
    "# Why Use Tensors? Tensors are similar to NumPy’s ndarrays, with the addition being that Tensors can also be used on a GPU to accelerate computing.\n",
    "\n",
    "# The double brackets in the data variable are due to a trailing comma, which inadvertently creates a tuple containing a list. This results in an extra dimension when the tensor is created.\n",
    "data = [[1, 2], \n",
    "        [3, 4]]\n",
    "x_data = torch.tensor(data)\n",
    "\n",
    "# From a numpy array\n",
    "np_array = np.array(data)\n",
    "x_np = torch.from_numpy(np_array)\n",
    "\n",
    "\n",
    "x_ones = torch.ones_like(x_data) # retains the properties of x_data (shape, datatype)\n",
    "print(f\"Ones Tensor: \\n {x_ones} \\n\")\n",
    "\n",
    "\n",
    "# With random or constant values:\n",
    "# shape is a tuple of tensor dimensions. In the function below, it is a single value.\n",
    "# first argument is the shape of the tensor. In this case, we are creating a 2x3 tensor.\n",
    "shape = (2,5,)\n",
    "rand_tensor = torch.rand(shape)\n",
    "ones_tensor = torch.ones(shape)\n",
    "zeros_tensor = torch.zeros(shape)\n",
    "print(f\"Random Tensor: \\n {rand_tensor} \\n\")\n",
    "\n",
    "\n",
    "# Attributes of a Tensor\n",
    "print(f\"Shape of tensor: {rand_tensor.shape}\")\n",
    "print(f\"Datatype of tensor: {rand_tensor.dtype}\")\n",
    "print(f\"Device tensor is stored on: {rand_tensor.device}\")\n",
    "\n",
    "\n",
    "# # We move our tensor to the GPU if available\n",
    "if torch.cuda.is_available():\n",
    "    tensor = rand_tensor.to(\"cuda\")\n",
    "    print(f\"Tensor is now stored on: {tensor.device}\")"
   ]
  },
  {
   "cell_type": "code",
   "execution_count": 29,
   "metadata": {},
   "outputs": [],
   "source": [
    "# For Datasets \n",
    "from torch.utils.data import Dataset\n",
    "from torchvision import datasets\n",
    "from torchvision.transforms import ToTensor\n",
    "import matplotlib.pyplot as plt\n",
    "\n",
    "# For Classes \n",
    "import os\n",
    "import pandas as pd\n",
    "import torchvision\n",
    "from torchvision.io import read_image"
   ]
  },
  {
   "cell_type": "code",
   "execution_count": 31,
   "metadata": {},
   "outputs": [
    {
     "name": "stdout",
     "output_type": "stream",
     "text": [
      "Downloading http://fashion-mnist.s3-website.eu-central-1.amazonaws.com/train-images-idx3-ubyte.gz\n",
      "Downloading http://fashion-mnist.s3-website.eu-central-1.amazonaws.com/train-images-idx3-ubyte.gz to data/FashionMNIST/raw/train-images-idx3-ubyte.gz\n"
     ]
    },
    {
     "name": "stderr",
     "output_type": "stream",
     "text": [
      "100.0%\n"
     ]
    },
    {
     "name": "stdout",
     "output_type": "stream",
     "text": [
      "Extracting data/FashionMNIST/raw/train-images-idx3-ubyte.gz to data/FashionMNIST/raw\n",
      "\n",
      "Downloading http://fashion-mnist.s3-website.eu-central-1.amazonaws.com/train-labels-idx1-ubyte.gz\n",
      "Downloading http://fashion-mnist.s3-website.eu-central-1.amazonaws.com/train-labels-idx1-ubyte.gz to data/FashionMNIST/raw/train-labels-idx1-ubyte.gz\n"
     ]
    },
    {
     "name": "stderr",
     "output_type": "stream",
     "text": [
      "100.0%\n"
     ]
    },
    {
     "name": "stdout",
     "output_type": "stream",
     "text": [
      "Extracting data/FashionMNIST/raw/train-labels-idx1-ubyte.gz to data/FashionMNIST/raw\n",
      "\n",
      "Downloading http://fashion-mnist.s3-website.eu-central-1.amazonaws.com/t10k-images-idx3-ubyte.gz\n",
      "Downloading http://fashion-mnist.s3-website.eu-central-1.amazonaws.com/t10k-images-idx3-ubyte.gz to data/FashionMNIST/raw/t10k-images-idx3-ubyte.gz\n"
     ]
    },
    {
     "name": "stderr",
     "output_type": "stream",
     "text": [
      "100.0%\n"
     ]
    },
    {
     "name": "stdout",
     "output_type": "stream",
     "text": [
      "Extracting data/FashionMNIST/raw/t10k-images-idx3-ubyte.gz to data/FashionMNIST/raw\n",
      "\n",
      "Downloading http://fashion-mnist.s3-website.eu-central-1.amazonaws.com/t10k-labels-idx1-ubyte.gz\n",
      "Downloading http://fashion-mnist.s3-website.eu-central-1.amazonaws.com/t10k-labels-idx1-ubyte.gz to data/FashionMNIST/raw/t10k-labels-idx1-ubyte.gz\n"
     ]
    },
    {
     "name": "stderr",
     "output_type": "stream",
     "text": [
      "100.0%"
     ]
    },
    {
     "name": "stdout",
     "output_type": "stream",
     "text": [
      "Extracting data/FashionMNIST/raw/t10k-labels-idx1-ubyte.gz to data/FashionMNIST/raw\n",
      "\n"
     ]
    },
    {
     "name": "stderr",
     "output_type": "stream",
     "text": [
      "\n"
     ]
    }
   ],
   "source": [
    "train_data = datasets.FashionMNIST(\n",
    "    root=\"data\",\n",
    "    train=True,\n",
    "    download=True,\n",
    "    transform=ToTensor()\n",
    ")\n",
    "\n",
    "test_data = datasets.FashionMNIST(\n",
    "    root=\"data\",\n",
    "    train=False,\n",
    "    download=True,\n",
    "    transform=ToTensor()\n",
    ")"
   ]
  },
  {
   "cell_type": "code",
   "execution_count": 36,
   "metadata": {},
   "outputs": [
    {
     "data": {
      "image/png": "[encoded data removed]",
      "text/plain": [
       "<Figure size 800x800 with 9 Axes>"
      ]
     },
     "metadata": {},
     "output_type": "display_data"
    }
   ],
   "source": [
    "labels_map = { \n",
    "    0: \"T-Shirt\",\n",
    "    1: \"Trouser\",\n",
    "    2: \"Pullover\", \n",
    "    3: \"Dress\",\n",
    "    4: \"Coat\",\n",
    "    5: \"Sandal\",\n",
    "    6: \"Shirt\",\n",
    "    7: \"Sneaker\",\n",
    "    8: \"Bag\",\n",
    "    9: \"Ankle Boot\",\n",
    "}\n",
    "\n",
    "figure = plt.figure(figsize=(8, 8))\n",
    "cols, rows = 3, 3 # 9 labels\n",
    "\n",
    "for i in range(1, cols*rows+1): \n",
    "    sample_idx = torch.randint(len(train_data), size=(1,)).item()\n",
    "    img, label = train_data[sample_idx]\n",
    "\n",
    "    # `add_subplot(rows, cols, i)` adds a subplot to the figure in a grid layout with rows rows and cols columns. The i specifies the position of the subplot.\n",
    "    figure.add_subplot(rows, cols, i)\n",
    "\n",
    "    # `plt.title()` sets the title of the subplot. The title is the label name.\n",
    "    plt.title(labels_map[label])\n",
    "\n",
    "    # plt.axis(\"off\") hides the axis lines and labels for a cleaner look.\n",
    "    plt.axis(\"off\")\n",
    "\n",
    "    # `plt.imshow(img.squeeze(), cmap=\"gray\")` displays the image in grayscale. `img.squeeze()` removes any unnecessary dimensions from the image tensor.\n",
    "    plt.imshow(img.squeeze(), cmap=\"gray\")\n",
    "plt.show()\n"
   ]
  },
  {
   "cell_type": "code",
   "execution_count": 37,
   "metadata": {},
   "outputs": [],
   "source": [
    "from torch.utils.data import DataLoader "
   ]
  },
  {
   "cell_type": "code",
   "execution_count": 30,
   "metadata": {},
   "outputs": [],
   "source": [
    "class CustomImageDataset(Dataset): \n",
    "    def __init__(self, annotations_file, img_dir, transform=None, target_transform=None): \n",
    "        self.img_labels = pd.read_csv(annotations_file)\n",
    "        self.img_dir = img_dir\n",
    "        self.transform = transform\n",
    "        self.target_transform = target_transform"
   ]
  }
 ],
 "metadata": {
  "kernelspec": {
   "display_name": "course-nlp--env",
   "language": "python",
   "name": "python3"
  },
  "language_info": {
   "codemirror_mode": {
    "name": "ipython",
    "version": 3
   },
   "file_extension": ".py",
   "mimetype": "text/x-python",
   "name": "python",
   "nbconvert_exporter": "python",
   "pygments_lexer": "ipython3",
   "version": "3.12.2"
  }
 },
 "nbformat": 4,
 "nbformat_minor": 2
}
